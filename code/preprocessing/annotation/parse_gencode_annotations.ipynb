{
 "cells": [
  {
   "cell_type": "code",
   "execution_count": 1,
   "metadata": {},
   "outputs": [],
   "source": [
    "# Obtains distance from rare variant to the TSS or TES\n",
    "# distTSS - absolute distance to transcription start site\n",
    "# distTES - absolute distance to transcription end site"
   ]
  },
  {
   "cell_type": "code",
   "execution_count": 2,
   "metadata": {},
   "outputs": [],
   "source": [
    "import os\n",
    "\n",
    "import numpy as np\n",
    "import pandas as pd"
   ]
  },
  {
   "cell_type": "code",
   "execution_count": 3,
   "metadata": {},
   "outputs": [],
   "source": [
    "def infostr_to_dict(infostr, kv_sep=' ', sep=';'):\n",
    "    \"\"\"Converts string to dictionary\n",
    "    \n",
    "    Parameters\n",
    "    ----------\n",
    "    infostr : str\n",
    "        Info column from gencode\n",
    "    \n",
    "    kv_sep : str\n",
    "        Separator between key and value\n",
    "        \n",
    "    sep : str\n",
    "        Separator between key-value pairs\n",
    "    \"\"\"\n",
    "    \n",
    "    kv_pairs = infostr.rstrip(sep).split(sep)\n",
    "\n",
    "    infodict = {}\n",
    "    for pair in kv_pairs:\n",
    "        #remove space in beginning\n",
    "        pair = pair.lstrip()\n",
    "\n",
    "        k, v = pair.split(kv_sep)\n",
    "        v = v.replace('\"','')\n",
    "        infodict[k] = v\n",
    "    \n",
    "    return infodict\n",
    "\n",
    "def infostr_to_gene_id(infostr):\n",
    "    \"\"\"Extracts gene_id from column 9 in gencode\n",
    "    \n",
    "    Paramters\n",
    "    ---------\n",
    "    infostr : str\n",
    "        Info column from gencode\n",
    "    \"\"\"\n",
    "    \n",
    "    return infostr_to_dict(infostr)['gene_id']\n",
    "    \n",
    "\n",
    "def get_distance(rv_row):\n",
    "    \"\"\"Returns a rare variant's absolute distance to TSS and TES\n",
    "    \n",
    "    Parameters\n",
    "    ----------\n",
    "    rv_row : pandas.Series\n",
    "        Row from rare variant file as dataframe\n",
    "        \n",
    "    Returns\n",
    "    -------\n",
    "    distTSS : int\n",
    "        absolute distance to transcription start site\n",
    "    distTSS : int\n",
    "        absolute distance to transcription end site\n",
    "    \"\"\"\n",
    "    \n",
    "    pos = rv_row['Start'] + 1  # rare variant is 0-start, half-open, whereas gencode gtf is 1-start, fully-closed\n",
    "    strand = rv_row['Strand']\n",
    "    \n",
    "    # positive strand\n",
    "    if strand == '+':\n",
    "        distTSS = np.abs(rv_row['genStart'] - pos)\n",
    "        distTES = np.abs(rv_row['genEnd'] - pos)\n",
    "    \n",
    "    # negative strand\n",
    "    else:\n",
    "        distTSS = np.abs(rv_row['genEnd'] - pos)\n",
    "        distTES = np.abs(rv_row['genStart'] - pos)        \n",
    "    \n",
    "    return distTSS, distTES"
   ]
  },
  {
   "cell_type": "code",
   "execution_count": 4,
   "metadata": {},
   "outputs": [],
   "source": [
    "gencode_file = '/scratch/groups/abattle4/victor/WatershedAFR/raw_data/GTEx/gencode.v26.GRCh38.genes.gtf'\n",
    "rv_file = '/scratch/groups/abattle4/victor/WatershedAFR/data/rare_variants_gnomad/gene-AFR-rv.txt'"
   ]
  },
  {
   "cell_type": "code",
   "execution_count": 5,
   "metadata": {},
   "outputs": [],
   "source": [
    "# Read in gencode and rare variants\n",
    "# gencode = pd.read_csv(gencode_file, names=['Chrom', 'Source', 'Feature', 'Start', 'End', 'Score','Strand', 'Phase', 'Info'], sep='\\t', index_col=False, skiprows=6)\n",
    "gencode = pd.read_csv(gencode_file, names=['Chrom', 'Source', 'Feature', 'genStart', 'genEnd', 'Score','Strand', 'Phase', 'Info'], sep='\\t', index_col=False, skiprows=6)\n",
    "rv = pd.read_csv(rv_file, sep='\\t', index_col=False)"
   ]
  },
  {
   "cell_type": "code",
   "execution_count": 6,
   "metadata": {},
   "outputs": [],
   "source": [
    "# Get gene_id from Info column\n",
    "# gencode['gene_id'] = gencode['Info'].apply(infostr_to_gene_id)\n",
    "gencode['Gene'] = gencode['Info'].apply(infostr_to_gene_id)"
   ]
  },
  {
   "cell_type": "code",
   "execution_count": 7,
   "metadata": {},
   "outputs": [],
   "source": [
    "# Add strand, start, and end to rv\n",
    "gencode_anno = pd.merge(rv, gencode[gencode['Feature'] == 'gene'][['Gene', 'genStart', 'genEnd', 'Strand']], how='left', on='Gene')"
   ]
  },
  {
   "cell_type": "code",
   "execution_count": 10,
   "metadata": {},
   "outputs": [],
   "source": [
    "# compute distances from each RV to TSS and TES \n",
    "gencode_anno['distTSS'], gencode_anno['distTES'] = zip(*gencode_anno.apply(get_distance, axis=1))"
   ]
  },
  {
   "cell_type": "code",
   "execution_count": 11,
   "metadata": {},
   "outputs": [],
   "source": [
    "# save gencode annotations\n",
    "gencode_anno = gencode_anno[['Gene', 'Ind', 'Start', 'End', 'Ref', 'Alt', 'AF', 'distTSS', 'distTES']]\n",
    "gencode_anno_file = '/scratch/groups/abattle4/victor/WatershedAFR/data/annotation/gene-AFR-rv.gencode.txt'\n",
    "gencode_anno.to_csv(gencode_anno_file, sep='\\t', index=False)"
   ]
  }
 ],
 "metadata": {
  "kernelspec": {
   "display_name": "Python [conda env:watershed]",
   "language": "python",
   "name": "conda-env-watershed-py"
  },
  "language_info": {
   "codemirror_mode": {
    "name": "ipython",
    "version": 3
   },
   "file_extension": ".py",
   "mimetype": "text/x-python",
   "name": "python",
   "nbconvert_exporter": "python",
   "pygments_lexer": "ipython3",
   "version": "3.7.10"
  }
 },
 "nbformat": 4,
 "nbformat_minor": 2
}
